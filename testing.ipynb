{
 "cells": [
  {
   "cell_type": "code",
   "execution_count": 1,
   "id": "8ab6ed08",
   "metadata": {},
   "outputs": [
    {
     "name": "stderr",
     "output_type": "stream",
     "text": [
      "c:\\Python311\\Lib\\site-packages\\tqdm\\auto.py:21: TqdmWarning: IProgress not found. Please update jupyter and ipywidgets. See https://ipywidgets.readthedocs.io/en/stable/user_install.html\n",
      "  from .autonotebook import tqdm as notebook_tqdm\n"
     ]
    },
    {
     "ename": "ImportError",
     "evalue": "cannot import name 'ClimateDataModule' from 'main' (c:\\Users\\zhenm\\Documents\\CSE 151B\\Physics-Based-Climate-Model\\main.py)",
     "output_type": "error",
     "traceback": [
      "\u001b[31m---------------------------------------------------------------------------\u001b[39m",
      "\u001b[31mImportError\u001b[39m                               Traceback (most recent call last)",
      "\u001b[36mCell\u001b[39m\u001b[36m \u001b[39m\u001b[32mIn[1]\u001b[39m\u001b[32m, line 1\u001b[39m\n\u001b[32m----> \u001b[39m\u001b[32m1\u001b[39m \u001b[38;5;28;01mfrom\u001b[39;00m\u001b[38;5;250m \u001b[39m\u001b[34;01mmain\u001b[39;00m\u001b[38;5;250m \u001b[39m\u001b[38;5;28;01mimport\u001b[39;00m ClimateDataModule, SimpleCNN, ClimateEmulationModule, config\n\u001b[32m      2\u001b[39m \u001b[38;5;28;01mimport\u001b[39;00m\u001b[38;5;250m \u001b[39m\u001b[34;01mlightning\u001b[39;00m\u001b[34;01m.\u001b[39;00m\u001b[34;01mpytorch\u001b[39;00m\u001b[38;5;250m \u001b[39m\u001b[38;5;28;01mas\u001b[39;00m\u001b[38;5;250m \u001b[39m\u001b[34;01mpl\u001b[39;00m\n\u001b[32m      4\u001b[39m \u001b[38;5;66;03m# 1) instantiate\u001b[39;00m\n",
      "\u001b[31mImportError\u001b[39m: cannot import name 'ClimateDataModule' from 'main' (c:\\Users\\zhenm\\Documents\\CSE 151B\\Physics-Based-Climate-Model\\main.py)"
     ]
    }
   ],
   "source": [
    "from main import ClimateDataModule, SimpleCNN, ClimateEmulationModule, config\n",
    "import lightning.pytorch as pl\n",
    "\n",
    "# 1) instantiate\n",
    "dm = ClimateDataModule(**config[\"data\"])\n",
    "model = SimpleCNN(\n",
    "    n_input_channels=len(config[\"data\"][\"input_vars\"]),\n",
    "    n_output_channels=len(config[\"data\"][\"output_vars\"]),\n",
    "    **{k: v for k,v in config[\"model\"].items() if k!=\"type\"}\n",
    ")\n",
    "lm = ClimateEmulationModule(model, learning_rate=config[\"training\"][\"lr\"])\n",
    "trainer = pl.Trainer(**config[\"trainer\"])\n",
    "\n",
    "# 2) run training+validation\n",
    "trainer.fit(lm, datamodule=dm)"
   ]
  }
 ],
 "metadata": {
  "kernelspec": {
   "display_name": "Python 3",
   "language": "python",
   "name": "python3"
  },
  "language_info": {
   "codemirror_mode": {
    "name": "ipython",
    "version": 3
   },
   "file_extension": ".py",
   "mimetype": "text/x-python",
   "name": "python",
   "nbconvert_exporter": "python",
   "pygments_lexer": "ipython3",
   "version": "3.11.9"
  }
 },
 "nbformat": 4,
 "nbformat_minor": 5
}
